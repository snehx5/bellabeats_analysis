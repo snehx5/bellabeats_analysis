{
 "cells": [
  {
   "cell_type": "code",
   "execution_count": 1,
   "id": "a81ff80d-8800-4b86-80e6-723ffbc09c2c",
   "metadata": {},
   "outputs": [
    {
     "name": "stdout",
     "output_type": "stream",
     "text": [
      "Matplotlib version:  3.9.2\n"
     ]
    }
   ],
   "source": [
    "import numpy as np  \n",
    "import pandas as pd \n",
    "import plotly.express as px\n",
    "import plotly.io as pio\n",
    "pio.renderers.default = 'notebook' \n",
    "import plotly.graph_objects as go\n",
    "\n",
    "%matplotlib inline\n",
    "\n",
    "import matplotlib as mpl\n",
    "import matplotlib.pyplot as plt\n",
    "\n",
    "mpl.style.use('ggplot')  \n",
    "\n",
    "print('Matplotlib version: ', mpl.__version__) "
   ]
  },
  {
   "cell_type": "code",
   "execution_count": 2,
   "id": "c90064ce-6176-40a3-bbd7-a63614b5230e",
   "metadata": {},
   "outputs": [
    {
     "name": "stdout",
     "output_type": "stream",
     "text": [
      "change\n"
     ]
    }
   ],
   "source": [
    "df_can = pd.read_csv('Fashion_Retail_Sales.csv')\n",
    "print('change')\n"
   ]
  },
  {
   "cell_type": "code",
   "execution_count": 3,
   "id": "0f4abc97-807b-4b28-b919-ecbc66ca480f",
   "metadata": {},
   "outputs": [
    {
     "data": {
      "text/html": [
       "<div>\n",
       "<style scoped>\n",
       "    .dataframe tbody tr th:only-of-type {\n",
       "        vertical-align: middle;\n",
       "    }\n",
       "\n",
       "    .dataframe tbody tr th {\n",
       "        vertical-align: top;\n",
       "    }\n",
       "\n",
       "    .dataframe thead th {\n",
       "        text-align: right;\n",
       "    }\n",
       "</style>\n",
       "<table border=\"1\" class=\"dataframe\">\n",
       "  <thead>\n",
       "    <tr style=\"text-align: right;\">\n",
       "      <th></th>\n",
       "      <th>Customer Reference ID</th>\n",
       "      <th>Item Purchased</th>\n",
       "      <th>Purchase Amount (USD)</th>\n",
       "      <th>Date Purchase</th>\n",
       "      <th>Review Rating</th>\n",
       "      <th>Payment Method</th>\n",
       "    </tr>\n",
       "  </thead>\n",
       "  <tbody>\n",
       "    <tr>\n",
       "      <th>0</th>\n",
       "      <td>4018</td>\n",
       "      <td>Handbag</td>\n",
       "      <td>4619.0</td>\n",
       "      <td>2023-02-05</td>\n",
       "      <td>NaN</td>\n",
       "      <td>Credit Card</td>\n",
       "    </tr>\n",
       "    <tr>\n",
       "      <th>1</th>\n",
       "      <td>4115</td>\n",
       "      <td>Tunic</td>\n",
       "      <td>2456.0</td>\n",
       "      <td>2023-07-11</td>\n",
       "      <td>2.0</td>\n",
       "      <td>Credit Card</td>\n",
       "    </tr>\n",
       "    <tr>\n",
       "      <th>2</th>\n",
       "      <td>4019</td>\n",
       "      <td>Tank Top</td>\n",
       "      <td>2102.0</td>\n",
       "      <td>2023-03-23</td>\n",
       "      <td>4.1</td>\n",
       "      <td>Cash</td>\n",
       "    </tr>\n",
       "    <tr>\n",
       "      <th>3</th>\n",
       "      <td>4097</td>\n",
       "      <td>Leggings</td>\n",
       "      <td>3126.0</td>\n",
       "      <td>2023-03-15</td>\n",
       "      <td>3.2</td>\n",
       "      <td>Cash</td>\n",
       "    </tr>\n",
       "    <tr>\n",
       "      <th>4</th>\n",
       "      <td>3997</td>\n",
       "      <td>Wallet</td>\n",
       "      <td>3003.0</td>\n",
       "      <td>2022-11-27</td>\n",
       "      <td>4.7</td>\n",
       "      <td>Cash</td>\n",
       "    </tr>\n",
       "  </tbody>\n",
       "</table>\n",
       "</div>"
      ],
      "text/plain": [
       "   Customer Reference ID Item Purchased  Purchase Amount (USD) Date Purchase  \\\n",
       "0                   4018        Handbag                 4619.0    2023-02-05   \n",
       "1                   4115          Tunic                 2456.0    2023-07-11   \n",
       "2                   4019       Tank Top                 2102.0    2023-03-23   \n",
       "3                   4097       Leggings                 3126.0    2023-03-15   \n",
       "4                   3997         Wallet                 3003.0    2022-11-27   \n",
       "\n",
       "   Review Rating Payment Method  \n",
       "0            NaN    Credit Card  \n",
       "1            2.0    Credit Card  \n",
       "2            4.1           Cash  \n",
       "3            3.2           Cash  \n",
       "4            4.7           Cash  "
      ]
     },
     "execution_count": 3,
     "metadata": {},
     "output_type": "execute_result"
    }
   ],
   "source": [
    "df_can.head()"
   ]
  },
  {
   "cell_type": "code",
   "execution_count": 4,
   "id": "0172c712-78cb-42a3-a585-6779b7eaea2d",
   "metadata": {},
   "outputs": [
    {
     "name": "stdout",
     "output_type": "stream",
     "text": [
      "Index(['Customer Reference ID', 'Item Purchased', 'Purchase Amount (USD)',\n",
      "       'Date Purchase', 'Review Rating', 'Payment Method'],\n",
      "      dtype='object')\n"
     ]
    }
   ],
   "source": [
    "print(df_can.columns)"
   ]
  },
  {
   "cell_type": "code",
   "execution_count": 5,
   "id": "19bf7e11-1bfa-4629-922d-50470ef142c9",
   "metadata": {},
   "outputs": [],
   "source": [
    "x = lambda col: col / 100"
   ]
  },
  {
   "cell_type": "code",
   "execution_count": 6,
   "id": "8b5f3a11-ca6e-4086-9ecf-554ecdbfca7a",
   "metadata": {},
   "outputs": [],
   "source": [
    "df_can.iloc[:, 2] = x(df_can.iloc[:, 2])"
   ]
  },
  {
   "cell_type": "code",
   "execution_count": 7,
   "id": "072917d0-2b76-4461-9f1a-932ba62c8d03",
   "metadata": {},
   "outputs": [
    {
     "data": {
      "text/plain": [
       "0       46.19\n",
       "1       24.56\n",
       "2       21.02\n",
       "3       31.26\n",
       "4       30.03\n",
       "        ...  \n",
       "3395     0.37\n",
       "3396     1.76\n",
       "3397      NaN\n",
       "3398     1.28\n",
       "3399     1.15\n",
       "Name: Purchase Amount (USD), Length: 3400, dtype: float64"
      ]
     },
     "execution_count": 7,
     "metadata": {},
     "output_type": "execute_result"
    }
   ],
   "source": [
    "df_can.iloc[:,2]"
   ]
  },
  {
   "cell_type": "code",
   "execution_count": 8,
   "id": "7ac13773-b078-48ae-a403-fe8b64f812e3",
   "metadata": {},
   "outputs": [
    {
     "data": {
      "text/html": [
       "<div>\n",
       "<style scoped>\n",
       "    .dataframe tbody tr th:only-of-type {\n",
       "        vertical-align: middle;\n",
       "    }\n",
       "\n",
       "    .dataframe tbody tr th {\n",
       "        vertical-align: top;\n",
       "    }\n",
       "\n",
       "    .dataframe thead th {\n",
       "        text-align: right;\n",
       "    }\n",
       "</style>\n",
       "<table border=\"1\" class=\"dataframe\">\n",
       "  <thead>\n",
       "    <tr style=\"text-align: right;\">\n",
       "      <th></th>\n",
       "      <th>Customer Reference ID</th>\n",
       "      <th>Item Purchased</th>\n",
       "      <th>Purchase Amount (USD)</th>\n",
       "      <th>Date Purchase</th>\n",
       "      <th>Review Rating</th>\n",
       "      <th>Payment Method</th>\n",
       "    </tr>\n",
       "  </thead>\n",
       "  <tbody>\n",
       "    <tr>\n",
       "      <th>0</th>\n",
       "      <td>4018</td>\n",
       "      <td>Handbag</td>\n",
       "      <td>46.19</td>\n",
       "      <td>2023-02-05</td>\n",
       "      <td>NaN</td>\n",
       "      <td>Credit Card</td>\n",
       "    </tr>\n",
       "    <tr>\n",
       "      <th>1</th>\n",
       "      <td>4115</td>\n",
       "      <td>Tunic</td>\n",
       "      <td>24.56</td>\n",
       "      <td>2023-07-11</td>\n",
       "      <td>2.0</td>\n",
       "      <td>Credit Card</td>\n",
       "    </tr>\n",
       "    <tr>\n",
       "      <th>2</th>\n",
       "      <td>4019</td>\n",
       "      <td>Tank Top</td>\n",
       "      <td>21.02</td>\n",
       "      <td>2023-03-23</td>\n",
       "      <td>4.1</td>\n",
       "      <td>Cash</td>\n",
       "    </tr>\n",
       "    <tr>\n",
       "      <th>3</th>\n",
       "      <td>4097</td>\n",
       "      <td>Leggings</td>\n",
       "      <td>31.26</td>\n",
       "      <td>2023-03-15</td>\n",
       "      <td>3.2</td>\n",
       "      <td>Cash</td>\n",
       "    </tr>\n",
       "    <tr>\n",
       "      <th>4</th>\n",
       "      <td>3997</td>\n",
       "      <td>Wallet</td>\n",
       "      <td>30.03</td>\n",
       "      <td>2022-11-27</td>\n",
       "      <td>4.7</td>\n",
       "      <td>Cash</td>\n",
       "    </tr>\n",
       "  </tbody>\n",
       "</table>\n",
       "</div>"
      ],
      "text/plain": [
       "   Customer Reference ID Item Purchased  Purchase Amount (USD) Date Purchase  \\\n",
       "0                   4018        Handbag                  46.19    2023-02-05   \n",
       "1                   4115          Tunic                  24.56    2023-07-11   \n",
       "2                   4019       Tank Top                  21.02    2023-03-23   \n",
       "3                   4097       Leggings                  31.26    2023-03-15   \n",
       "4                   3997         Wallet                  30.03    2022-11-27   \n",
       "\n",
       "   Review Rating Payment Method  \n",
       "0            NaN    Credit Card  \n",
       "1            2.0    Credit Card  \n",
       "2            4.1           Cash  \n",
       "3            3.2           Cash  \n",
       "4            4.7           Cash  "
      ]
     },
     "execution_count": 8,
     "metadata": {},
     "output_type": "execute_result"
    }
   ],
   "source": [
    "df_can.head()"
   ]
  },
  {
   "cell_type": "markdown",
   "id": "05e84e8b-c3d9-4a9b-835f-c2fc961dafe1",
   "metadata": {},
   "source": [
    "The first thing I do is inspect the dataset to clean it and spot errors.  There are a lot of records! 3400. I import the file into Google Sheets and check it out! I divide the Purchase Amount column by 100 so that the costs of items is properly documented.  A handbag usually doesn't cost $4,619 unless this is a high-end store, but it doesn't seem like it."
   ]
  },
  {
   "cell_type": "code",
   "execution_count": 10,
   "id": "d0ddbeba-0b4c-4dbd-b674-ea4059803455",
   "metadata": {},
   "outputs": [
    {
     "name": "stdout",
     "output_type": "stream",
     "text": [
      "     Item Purchased  Purchase Amount (USD) Date Purchase\n",
      "0           Handbag                  46.19    2023-02-05\n",
      "1             Tunic                  24.56    2023-07-11\n",
      "2          Tank Top                  21.02    2023-03-23\n",
      "3          Leggings                  31.26    2023-03-15\n",
      "4            Wallet                  30.03    2022-11-27\n",
      "...             ...                    ...           ...\n",
      "3395         Shorts                   0.37    2023-07-09\n",
      "3396       Slippers                   1.76    2023-03-16\n",
      "3397         Onesie                    NaN    2022-10-03\n",
      "3398        Sandals                   1.28    2023-01-01\n",
      "3399       Backpack                   1.15    2023-03-22\n",
      "\n",
      "[3400 rows x 3 columns]\n"
     ]
    }
   ],
   "source": [
    "items_amount = df_can.loc[:, ['Item Purchased', 'Purchase Amount (USD)', 'Date Purchase']]\n",
    "print(items_amount)"
   ]
  },
  {
   "cell_type": "code",
   "execution_count": 11,
   "id": "0da18714-5ae6-432e-bfc6-066164ca685f",
   "metadata": {},
   "outputs": [
    {
     "name": "stdout",
     "output_type": "stream",
     "text": [
      "   Item Purchased  Purchase Amount (USD)\n",
      "0        Backpack                  61.68\n",
      "1            Belt                 104.84\n",
      "2          Blazer                  99.85\n",
      "3          Blouse                 104.72\n",
      "4           Boots                 118.91\n",
      "5          Bowtie                  87.05\n",
      "6        Camisole                  61.36\n",
      "7        Cardigan                  92.70\n",
      "8            Coat                  55.54\n",
      "9           Dress                  41.07\n",
      "10  Flannel Shirt                  54.26\n",
      "11     Flip-Flops                 113.09\n",
      "12         Gloves                 123.30\n",
      "13        Handbag                 126.68\n",
      "14            Hat                  57.83\n",
      "15         Hoodie                  95.79\n",
      "16         Jacket                  78.99\n",
      "17          Jeans                 130.68\n",
      "18       Jumpsuit                  52.54\n",
      "19         Kimono                  91.30\n",
      "20       Leggings                  80.87\n",
      "21        Loafers                 110.05\n",
      "22         Onesie                  95.49\n",
      "23       Overalls                  55.74\n",
      "24        Pajamas                 127.98\n",
      "25          Pants                  92.95\n",
      "26     Polo Shirt                  45.56\n",
      "27         Poncho                 114.22\n",
      "28       Raincoat                  67.77\n",
      "29         Romper                  94.61\n",
      "30        Sandals                  55.71\n",
      "31          Scarf                  91.75\n",
      "32         Shorts                 127.02\n",
      "33          Skirt                  73.57\n",
      "34       Slippers                 112.84\n",
      "35       Sneakers                  64.36\n",
      "36          Socks                  80.33\n",
      "37        Sun Hat                  40.77\n",
      "38     Sunglasses                  54.95\n",
      "39        Sweater                 108.70\n",
      "40       Swimsuit                  90.26\n",
      "41        T-shirt                  90.43\n",
      "42       Tank Top                  82.96\n",
      "43            Tie                  47.43\n",
      "44    Trench Coat                  99.92\n",
      "45       Trousers                  64.58\n",
      "46          Tunic                 172.75\n",
      "47       Umbrella                  58.15\n",
      "48           Vest                  61.90\n",
      "49         Wallet                  93.72\n"
     ]
    }
   ],
   "source": [
    "grouped = df_can.groupby('Item Purchased', as_index=False)['Purchase Amount (USD)'].sum()\n",
    "print(grouped)"
   ]
  },
  {
   "cell_type": "code",
   "execution_count": 12,
   "id": "bbedc5fc-d50e-454b-96d8-d06cf239dc95",
   "metadata": {},
   "outputs": [],
   "source": [
    "grouped_df = pd.DataFrame(grouped, columns=['Item Purchased', 'Purchase Amount (USD)'])"
   ]
  },
  {
   "cell_type": "code",
   "execution_count": 13,
   "id": "1b26ef15-b1b0-4a75-b6c3-a4d68204052f",
   "metadata": {},
   "outputs": [
    {
     "data": {
      "text/html": [
       "<div>\n",
       "<style scoped>\n",
       "    .dataframe tbody tr th:only-of-type {\n",
       "        vertical-align: middle;\n",
       "    }\n",
       "\n",
       "    .dataframe tbody tr th {\n",
       "        vertical-align: top;\n",
       "    }\n",
       "\n",
       "    .dataframe thead th {\n",
       "        text-align: right;\n",
       "    }\n",
       "</style>\n",
       "<table border=\"1\" class=\"dataframe\">\n",
       "  <thead>\n",
       "    <tr style=\"text-align: right;\">\n",
       "      <th></th>\n",
       "      <th>Item Purchased</th>\n",
       "      <th>Purchase Amount (USD)</th>\n",
       "    </tr>\n",
       "  </thead>\n",
       "  <tbody>\n",
       "    <tr>\n",
       "      <th>0</th>\n",
       "      <td>Backpack</td>\n",
       "      <td>61.68</td>\n",
       "    </tr>\n",
       "    <tr>\n",
       "      <th>1</th>\n",
       "      <td>Belt</td>\n",
       "      <td>104.84</td>\n",
       "    </tr>\n",
       "    <tr>\n",
       "      <th>2</th>\n",
       "      <td>Blazer</td>\n",
       "      <td>99.85</td>\n",
       "    </tr>\n",
       "    <tr>\n",
       "      <th>3</th>\n",
       "      <td>Blouse</td>\n",
       "      <td>104.72</td>\n",
       "    </tr>\n",
       "    <tr>\n",
       "      <th>4</th>\n",
       "      <td>Boots</td>\n",
       "      <td>118.91</td>\n",
       "    </tr>\n",
       "  </tbody>\n",
       "</table>\n",
       "</div>"
      ],
      "text/plain": [
       "  Item Purchased  Purchase Amount (USD)\n",
       "0       Backpack                  61.68\n",
       "1           Belt                 104.84\n",
       "2         Blazer                  99.85\n",
       "3         Blouse                 104.72\n",
       "4          Boots                 118.91"
      ]
     },
     "execution_count": 13,
     "metadata": {},
     "output_type": "execute_result"
    }
   ],
   "source": [
    "grouped_df.head()\n"
   ]
  },
  {
   "cell_type": "code",
   "execution_count": 14,
   "id": "2c12a73d-bbfd-4929-8951-ef269f764c91",
   "metadata": {},
   "outputs": [
    {
     "data": {
      "image/png": "[encoded data removed]",
      "text/plain": [
       "<Figure size 1500x1500 with 1 Axes>"
      ]
     },
     "metadata": {},
     "output_type": "display_data"
    }
   ],
   "source": [
    "import matplotlib.pyplot as plt\n",
    "import seaborn as sns\n",
    "\n",
    "# Select the first 100 rows of each column (as per your original code)\n",
    "items = grouped_df['Item Purchased'].head(100)\n",
    "amount = grouped_df['Purchase Amount (USD)'].head(100)\n",
    "\n",
    "# Combine these into a new DataFrame\n",
    "data = pd.DataFrame({'Item Purchased': items, 'Purchase Amount (USD)': amount})\n",
    "\n",
    "# Group by 'Item Purchased' and sum the 'Purchase Amount (USD)'\n",
    "item_amount = data.groupby('Item Purchased')['Purchase Amount (USD)'].sum().reset_index()\n",
    "\n",
    "# Sort the data by amount in descending order to make the plot more informative\n",
    "item_amount = item_amount.sort_values(by='Purchase Amount (USD)', ascending=False)\n",
    "\n",
    "font_size_title = 16  # Title font size\n",
    "font_size_labels = 14  # Axis labels font size\n",
    "font_size_ticks = 12  # Tick labels font size\n",
    "\n",
    "# Plot\n",
    "plt.figure(figsize=(15, 15))\n",
    "sns.barplot(x='Purchase Amount (USD)', y='Item Purchased', hue='Item Purchased', data=item_amount, palette='viridis', legend='auto')\n",
    "\n",
    "# Set the title and axis labels with specific font sizes\n",
    "plt.title('Total Purchase Amount by Item', fontsize=font_size_title)\n",
    "plt.xlabel('Total Purchase Amount (USD)', fontsize=font_size_labels)\n",
    "plt.ylabel('Item Purchased', fontsize=font_size_labels)\n",
    "\n",
    "# Set the font size for tick labels\n",
    "plt.xticks(fontsize=font_size_ticks)\n",
    "plt.yticks(fontsize=font_size_ticks)\n",
    "\n",
    "# Display the plot\n",
    "plt.show()"
   ]
  },
  {
   "cell_type": "markdown",
   "id": "3497d07f-d5e3-4a84-901d-717947636523",
   "metadata": {},
   "source": [
    "Tunics made the store the most money, $175.00 followed by jeans, $130.00."
   ]
  },
  {
   "cell_type": "code",
   "execution_count": 16,
   "id": "9d488b65-31e1-4f07-8fa2-93ab2cf877c6",
   "metadata": {},
   "outputs": [
    {
     "name": "stdout",
     "output_type": "stream",
     "text": [
      "    Date Purchase  Purchase Amount (USD)\n",
      "0      2022-10-02                   8.22\n",
      "1      2022-10-03                   9.29\n",
      "2      2022-10-04                  10.71\n",
      "3      2022-10-05                  11.60\n",
      "4      2022-10-06                   4.11\n",
      "..            ...                    ...\n",
      "360    2023-09-27                   3.38\n",
      "361    2023-09-28                   8.40\n",
      "362    2023-09-29                   6.04\n",
      "363    2023-09-30                  10.08\n",
      "364    2023-10-01                   4.23\n",
      "\n",
      "[365 rows x 2 columns]\n"
     ]
    }
   ],
   "source": [
    "date_amount = df_can.groupby('Date Purchase', as_index=False)['Purchase Amount (USD)'].sum()\n",
    "print(date_amount)\n"
   ]
  },
  {
   "cell_type": "code",
   "execution_count": 17,
   "id": "cc8ac429-7768-49b9-93ba-b95eabfbc866",
   "metadata": {},
   "outputs": [],
   "source": [
    "date_amount_df = pd.DataFrame(date_amount, columns=['Date Purchase', 'Purchase Amount (USD)'])"
   ]
  },
  {
   "cell_type": "code",
   "execution_count": 18,
   "id": "bd294c86-cd7d-48f5-991b-14d8d33dcde8",
   "metadata": {},
   "outputs": [
    {
     "name": "stdout",
     "output_type": "stream",
     "text": [
      "    Date Purchase  Purchase Amount (USD)\n",
      "0      2022-10-02                   8.22\n",
      "1      2022-10-03                   9.29\n",
      "2      2022-10-04                  10.71\n",
      "3      2022-10-05                  11.60\n",
      "4      2022-10-06                   4.11\n",
      "..            ...                    ...\n",
      "360    2023-09-27                   3.38\n",
      "361    2023-09-28                   8.40\n",
      "362    2023-09-29                   6.04\n",
      "363    2023-09-30                  10.08\n",
      "364    2023-10-01                   4.23\n",
      "\n",
      "[365 rows x 2 columns]\n"
     ]
    }
   ],
   "source": [
    "date_amount_df.head()\n",
    "print(date_amount_df)"
   ]
  },
  {
   "cell_type": "code",
   "execution_count": 19,
   "id": "4e68155b-229d-4bc2-b407-d32acacb379b",
   "metadata": {
    "scrolled": true
   },
   "outputs": [
    {
     "data": {
      "text/html": [
       "<iframe\n",
       "    scrolling=\"no\"\n",
       "    width=\"100%\"\n",
       "    height=\"545px\"\n",
       "    src=\"iframe_figures/figure_19.html\"\n",
       "    frameborder=\"0\"\n",
       "    allowfullscreen\n",
       "></iframe>\n"
      ]
     },
     "metadata": {},
     "output_type": "display_data"
    }
   ],
   "source": [
    "# Assuming 'Date Purchase' is a string or object, convert it to datetime format\n",
    "\n",
    "date_amount_df['Date Purchase'] = pd.to_datetime(date_amount_df['Date Purchase'])\n",
    "\n",
    "# Convert the datetime to a Unix timestamp (seconds since epoch)\n",
    "date_amount_df['Date Purchase'] = date_amount_df['Date Purchase'].astype('int64') / 10**9  # Convert to seconds\n",
    "\n",
    "dates = date_amount_df['Date Purchase']\n",
    "amount = date_amount_df['Purchase Amount (USD)']\n",
    "\n",
    "fig=go.Figure()\n",
    "\n",
    "\n",
    "\n",
    "fig.add_trace(go.Scatter(x=dates, y=amount, mode='markers', marker=dict(color='green')))\n",
    "\n",
    "fig.update_layout(title='Purchase Amount (USD) Over Days', xaxis_title='Date Purchased', yaxis_title='Purchase Amount (USD)')\n",
    "\n",
    "fig.show(renderer='iframe_connected')\n",
    "\n"
   ]
  },
  {
   "cell_type": "markdown",
   "id": "d40b2d8d-2081-447a-9545-57019140d3c6",
   "metadata": {},
   "source": [
    "There is no correlation with time and purchase amount."
   ]
  },
  {
   "cell_type": "code",
   "execution_count": 21,
   "id": "95fd7e07-5fcd-4784-b2e7-18f13f63ddf1",
   "metadata": {},
   "outputs": [
    {
     "name": "stdout",
     "output_type": "stream",
     "text": [
      "   Item Purchased  Count\n",
      "0            Belt     90\n",
      "1           Skirt     88\n",
      "2          Shorts     87\n",
      "3           Pants     86\n",
      "4        Tank Top     82\n",
      "5         T-shirt     82\n",
      "6         Pajamas     81\n",
      "7        Camisole     76\n",
      "8         Loafers     76\n",
      "9          Hoodie     75\n",
      "10         Poncho     73\n",
      "11          Socks     73\n",
      "12         Kimono     73\n",
      "13         Blouse     73\n",
      "14         Wallet     73\n",
      "15        Handbag     72\n",
      "16       Cardigan     72\n",
      "17           Vest     71\n",
      "18       Sneakers     71\n",
      "19         Onesie     71\n",
      "20       Backpack     71\n",
      "21         Blazer     71\n",
      "22       Umbrella     70\n",
      "23       Raincoat     69\n",
      "24    Trench Coat     68\n",
      "25            Hat     68\n",
      "26     Sunglasses     67\n",
      "27           Coat     67\n",
      "28          Scarf     66\n",
      "29       Swimsuit     66\n",
      "30          Boots     65\n",
      "31         Jacket     64\n",
      "32         Romper     64\n",
      "33  Flannel Shirt     63\n",
      "34       Leggings     62\n",
      "35        Sweater     62\n",
      "36       Overalls     61\n",
      "37          Tunic     61\n",
      "38     Polo Shirt     59\n",
      "39         Gloves     59\n",
      "40          Jeans     58\n",
      "41       Slippers     58\n",
      "42       Trousers     58\n",
      "43       Jumpsuit     57\n",
      "44          Dress     57\n",
      "45            Tie     57\n",
      "46        Sandals     54\n",
      "47         Bowtie     52\n",
      "48     Flip-Flops     51\n",
      "49        Sun Hat     50\n"
     ]
    }
   ],
   "source": [
    "items = df_can.loc[:,'Item Purchased'].value_counts()\n",
    "items_df = items.reset_index()\n",
    "\n",
    "# Rename the columns for better clarity\n",
    "items_df.columns = ['Item Purchased', 'Count']\n",
    "print(items_df)"
   ]
  },
  {
   "cell_type": "code",
   "execution_count": 47,
   "id": "0f55188a-eaa0-4106-b4cb-6aa4cc23900d",
   "metadata": {},
   "outputs": [
    {
     "data": {
      "text/html": [
       "<iframe\n",
       "    scrolling=\"no\"\n",
       "    width=\"1220px\"\n",
       "    height=\"820\"\n",
       "    src=\"iframe_figures/figure_47.html\"\n",
       "    frameborder=\"0\"\n",
       "    allowfullscreen\n",
       "></iframe>\n"
      ]
     },
     "metadata": {},
     "output_type": "display_data"
    }
   ],
   "source": [
    "fig=go.Figure()\n",
    "fig\n",
    "\n",
    "fig = px.scatter(items_df, x=\"Item Purchased\", y=\"Count\", size=\"Count\",\n",
    "                 hover_name=\"Item Purchased\", title='How Many of Each Item Was Purchased', size_max=100)\n",
    "fig.update_layout(\n",
    "    width=1200,  # Set the width of the figure (in pixels)\n",
    "    height=800,  # Set the height of the figure (in pixels)\n",
    "    font={'size': 12},\n",
    ")\n",
    "fig.show(renderer='iframe_connected')\n"
   ]
  },
  {
   "cell_type": "markdown",
   "id": "dc2b31e1-a7da-4add-b202-63b27b015187",
   "metadata": {},
   "source": [
    "The most belts were purchased at the store with a total count of \"90\".  The second-most purchased item was skirt with a count of \"88\".  \n",
    "The store only sold 61 tunics although they made the most money.  58 jeans were sold.  The lowest selling item was the sun-hat which sold 50 units."
   ]
  },
  {
   "cell_type": "code",
   "execution_count": 24,
   "id": "56f68f0d-3434-4999-bd2b-0dbff5ca86ec",
   "metadata": {},
   "outputs": [
    {
     "name": "stdout",
     "output_type": "stream",
     "text": [
      "      Review Rating  Date Purchase\n",
      "0               NaN   1.675555e+09\n",
      "1               2.0   1.689034e+09\n",
      "2               4.1   1.679530e+09\n",
      "3               3.2   1.678838e+09\n",
      "4               4.7   1.669507e+09\n",
      "...             ...            ...\n",
      "3395            2.7   1.688861e+09\n",
      "3396            2.5   1.678925e+09\n",
      "3397            2.4   1.664755e+09\n",
      "3398            1.8   1.672531e+09\n",
      "3399            1.4   1.679443e+09\n",
      "\n",
      "[3400 rows x 2 columns]\n"
     ]
    },
    {
     "data": {
      "text/html": [
       "<iframe\n",
       "    scrolling=\"no\"\n",
       "    width=\"100%\"\n",
       "    height=\"545px\"\n",
       "    src=\"iframe_figures/figure_24.html\"\n",
       "    frameborder=\"0\"\n",
       "    allowfullscreen\n",
       "></iframe>\n"
      ]
     },
     "metadata": {},
     "output_type": "display_data"
    }
   ],
   "source": [
    "ratings_dates = df_can.loc[:, ['Review Rating', 'Date Purchase']]\n",
    "\n",
    "\n",
    "ratings_dates['Date Purchase'] = pd.to_datetime(ratings_dates['Date Purchase'])\n",
    "\n",
    "# Convert the datetime to a Unix timestamp (seconds since epoch)\n",
    "ratings_dates['Date Purchase'] = ratings_dates['Date Purchase'].astype('int64') / 10**9  # Convert to seconds\n",
    "\n",
    "\n",
    "\n",
    "print(ratings_dates)\n",
    "\n",
    "fig = go.Figure()\n",
    "fig.add_trace(go.Scatter(x=ratings_dates['Date Purchase'], y=ratings_dates['Review Rating'], mode='lines', marker=dict(color='green')))\n",
    "fig.update_layout(title='Ratings over Time', xaxis_title='Date Purchase', yaxis_title='Review Rating')\n",
    "# Display the figure\n",
    "fig.show(renderer='iframe_connected')\n"
   ]
  },
  {
   "cell_type": "markdown",
   "id": "576daea8-f6ec-4b32-aba0-c21449dfaa1b",
   "metadata": {},
   "source": [
    "There is no correlation of ratings over time."
   ]
  },
  {
   "cell_type": "markdown",
   "id": "9bc3e810-7521-4387-b23e-c37ac18ddfe4",
   "metadata": {},
   "source": [
    "From the analysis, we are able to find out that tunics and jeans make the store the most money.  There is no correlation between time and purchase amount or ratings.\n",
    "Thus, over time the store has not improved revenue or customer satisfaction.  The most popular items sold in the store are belts, skirts and shorts.  "
   ]
  }
 ],
 "metadata": {
  "kernelspec": {
   "display_name": "Python 3 (ipykernel)",
   "language": "python",
   "name": "python3"
  },
  "language_info": {
   "codemirror_mode": {
    "name": "ipython",
    "version": 3
   },
   "file_extension": ".py",
   "mimetype": "text/x-python",
   "name": "python",
   "nbconvert_exporter": "python",
   "pygments_lexer": "ipython3",
   "version": "3.12.7"
  }
 },
 "nbformat": 4,
 "nbformat_minor": 5
}
